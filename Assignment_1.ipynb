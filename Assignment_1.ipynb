{
  "nbformat": 4,
  "nbformat_minor": 0,
  "metadata": {
    "colab": {
      "provenance": []
    },
    "kernelspec": {
      "name": "python3",
      "display_name": "Python 3"
    },
    "language_info": {
      "name": "python"
    }
  },
  "cells": [
    {
      "cell_type": "code",
      "execution_count": 1,
      "metadata": {
        "colab": {
          "base_uri": "https://localhost:8080/"
        },
        "id": "0gc3zBwJ1FmI",
        "outputId": "b2592a8d-92b1-46c2-e1e1-c36c6307b871"
      },
      "outputs": [
        {
          "output_type": "stream",
          "name": "stdout",
          "text": [
            "Cse\n"
          ]
        }
      ],
      "source": [
        "#Ques1\n",
        "print('Cse')\n"
      ]
    },
    {
      "cell_type": "code",
      "source": [
        "#Ques2\n",
        "a=9+8\n",
        "b=\"Semester \"+\"IV\"\n",
        "c=\"Semester \"+str(4)\n",
        "print(a)\n",
        "print(b)\n",
        "print(c)\n"
      ],
      "metadata": {
        "colab": {
          "base_uri": "https://localhost:8080/"
        },
        "id": "5I7WCuuk1Rvf",
        "outputId": "b2a00f42-be14-4aef-a7ad-d4897d46494b"
      },
      "execution_count": 2,
      "outputs": [
        {
          "output_type": "stream",
          "name": "stdout",
          "text": [
            "17\n",
            "Semester IV\n",
            "Semester 4\n"
          ]
        }
      ]
    },
    {
      "cell_type": "code",
      "source": [
        "#Ques3\n",
        "a=int(input('Enter a number:'))\n",
        "\n",
        "if(a==0):\n",
        "    print('Zero')\n",
        "elif(a>0):\n",
        "    print('Positive number')\n",
        "elif(a<0):\n",
        "    print('Negative number')\n",
        "\n",
        "if(a%2==0):\n",
        "    print('Number is even')\n",
        "else:\n",
        "    print('Number is odd')\n"
      ],
      "metadata": {
        "colab": {
          "base_uri": "https://localhost:8080/"
        },
        "id": "LsMMdNVI1aDH",
        "outputId": "24ac0140-41b7-4289-9b58-bc0bceb4de6b"
      },
      "execution_count": 3,
      "outputs": [
        {
          "output_type": "stream",
          "name": "stdout",
          "text": [
            "Enter a number:24\n",
            "Positive number\n",
            "Number is even\n"
          ]
        }
      ]
    },
    {
      "cell_type": "code",
      "source": [
        "#Ques4\n",
        "print('Using for loop:')\n",
        "for i in range(1,11,1):\n",
        "    print(i)\n",
        "\n",
        "print('\\n\\n')\n",
        "print('Using while loop:')\n",
        "num=0\n",
        "while(num<11):\n",
        "    print(num)\n",
        "    num=num+1\n",
        "\n",
        "print('\\n\\n')\n",
        "sum1=0\n",
        "for i in range(1,101,1):\n",
        "    sum1=sum1+i\n",
        "print('Sum:',sum1)\n"
      ],
      "metadata": {
        "colab": {
          "base_uri": "https://localhost:8080/"
        },
        "id": "sr3lmgQE1gJ4",
        "outputId": "19e04c33-8818-45bb-95d5-c387644c8d33"
      },
      "execution_count": 4,
      "outputs": [
        {
          "output_type": "stream",
          "name": "stdout",
          "text": [
            "Using for loop:\n",
            "1\n",
            "2\n",
            "3\n",
            "4\n",
            "5\n",
            "6\n",
            "7\n",
            "8\n",
            "9\n",
            "10\n",
            "\n",
            "\n",
            "\n",
            "Using while loop:\n",
            "0\n",
            "1\n",
            "2\n",
            "3\n",
            "4\n",
            "5\n",
            "6\n",
            "7\n",
            "8\n",
            "9\n",
            "10\n",
            "\n",
            "\n",
            "\n",
            "Sum: 5050\n"
          ]
        }
      ]
    },
    {
      "cell_type": "code",
      "source": [
        "#Ques 5\n",
        "L=[1,2,3,4,5]\n",
        "print('Max:',max(L))\n",
        "print('Min:',min(L))\n",
        "\n",
        "dict1={1:'One',2:'Two',3:'Three'}\n",
        "a=eval(input('Enter the key:'))\n",
        "print('Value:',dict1[a])\n",
        "\n",
        "\n",
        "list1=[25,34,22,66,32,102,91]\n",
        "list1.sort()\n",
        "print('Sorted list in ascending order :',list1)\n",
        "list1.sort(reverse=True)\n",
        "print('Sorted list in descending order:',list1)\n",
        "\n",
        "\n",
        "dict2={4:'Four',5:'Five',6:'Six'}\n",
        "dict1.update(dict2)\n",
        "print(dict1)\n"
      ],
      "metadata": {
        "colab": {
          "base_uri": "https://localhost:8080/"
        },
        "id": "9e29hcot1m-h",
        "outputId": "1de4dd0a-0304-4da1-a9de-278f4dd59e64"
      },
      "execution_count": 5,
      "outputs": [
        {
          "output_type": "stream",
          "name": "stdout",
          "text": [
            "Max: 5\n",
            "Min: 1\n",
            "Enter the key:2\n",
            "Value: Two\n",
            "Sorted list in ascending order : [22, 25, 32, 34, 66, 91, 102]\n",
            "Sorted list in descending order: [102, 91, 66, 34, 32, 25, 22]\n",
            "{1: 'One', 2: 'Two', 3: 'Three', 4: 'Four', 5: 'Five', 6: 'Six'}\n"
          ]
        }
      ]
    },
    {
      "cell_type": "code",
      "source": [
        "#Ques 6\n",
        "a=input('Enter the string:')\n",
        "\n",
        "count=0\n",
        "for i in a:\n",
        "    if i in \"aeiou\":\n",
        "        count=count+1\n",
        "\n",
        "print('Number of vowels:',count)\n",
        "\n",
        "b=a[::-1]\n",
        "print('Reveresed:',b)\n",
        "\n",
        "string=input('Enter a string to check:')\n",
        "revStr=string[::-1]\n",
        "if(revStr==string):\n",
        "    print('Entered string is palindrome')\n",
        "else:\n",
        "    print('Entered string is not palindrome')\n"
      ],
      "metadata": {
        "colab": {
          "base_uri": "https://localhost:8080/"
        },
        "id": "WN476u6E2BRP",
        "outputId": "4007ee6d-95f7-4534-e253-5d5c2b10f3cf"
      },
      "execution_count": 6,
      "outputs": [
        {
          "output_type": "stream",
          "name": "stdout",
          "text": [
            "Enter the string:Hello\n",
            "Number of vowels: 2\n",
            "Reveresed: olleH\n",
            "Enter a string to check:NamaN\n",
            "Entered string is palindrome\n"
          ]
        }
      ]
    },
    {
      "cell_type": "code",
      "source": [
        "#Ques 7\n",
        "file=open(\"file.txt\",\"w\")\n",
        "\n",
        "file.write(\"Cognitive Computing\\n\")\n",
        "print(\"Data written\")\n",
        "file.close()\n",
        "\n",
        "file=open(\"file.txt\",\"r\")\n",
        "print(file.read())\n",
        "file.close()\n",
        "\n",
        "\n",
        "\n",
        "\n",
        "file=open(\"file.txt\",\"a\")\n",
        "file.write(\"Semester IV\\n\")\n",
        "file.close()\n",
        "\n",
        "file=open(\"file.txt\",\"r\")\n",
        "print(file.read())\n",
        "file.close()\n",
        "\n",
        "\n",
        "\n",
        "\n",
        "\n",
        "file=open(\"file.txt\",\"r\")\n",
        "print('Number of lines:',len(file.readlines()))\n",
        "file.close()\n",
        "\n"
      ],
      "metadata": {
        "colab": {
          "base_uri": "https://localhost:8080/"
        },
        "id": "MRJI9Bjq2W0Y",
        "outputId": "f39deda2-1ed5-431f-ab15-8c0303ae0c77"
      },
      "execution_count": 7,
      "outputs": [
        {
          "output_type": "stream",
          "name": "stdout",
          "text": [
            "Data written\n",
            "Cognitive Computing\n",
            "\n",
            "Cognitive Computing\n",
            "Semester IV\n",
            "\n",
            "Number of lines: 2\n"
          ]
        }
      ]
    },
    {
      "cell_type": "code",
      "source": [
        "#Ques 8\n",
        "a=int(input('Enter a number:'))\n",
        "b=int(input('Enter a number:'))\n",
        "\n",
        "try:\n",
        "    result=a/b\n",
        "    print('Result:',result)\n",
        "except:\n",
        "    print('Zero divison error')\n",
        "\n",
        "\n",
        "\n",
        "try:\n",
        "    num=int(input('Enter a number:'))\n",
        "    print('Valid')\n",
        "except:\n",
        "    print('You didnt enter a number')\n",
        "\n",
        "\n",
        "\n",
        "try:\n",
        "    num=int(input('Enter a number to divide 15:'))\n",
        "    res=15/num\n",
        "except:\n",
        "    print('Zero divison error')\n",
        "else:\n",
        "    print('Result:',res)\n",
        "finally:\n",
        "    print('Completed')\n"
      ],
      "metadata": {
        "colab": {
          "base_uri": "https://localhost:8080/"
        },
        "id": "nb34Jxw824s4",
        "outputId": "ca39672b-ec42-41ae-a51f-ce4271501aa8"
      },
      "execution_count": 8,
      "outputs": [
        {
          "output_type": "stream",
          "name": "stdout",
          "text": [
            "Enter a number:10\n",
            "Enter a number:2\n",
            "Result: 5.0\n",
            "Enter a number:j\n",
            "You didnt enter a number\n",
            "Enter a number to divide 15:3\n",
            "Result: 5.0\n",
            "Completed\n"
          ]
        }
      ]
    },
    {
      "cell_type": "code",
      "source": [
        "#Ques 9\n",
        "import random\n",
        "print('Five random numbers')\n",
        "for i in range(5):\n",
        "    print(random.randint(1,100))\n",
        "\n",
        "\n",
        "\n",
        "\n",
        "print('\\n\\n')\n",
        "num=random.randint(1,100)\n",
        "flag=True\n",
        "for i in range(2,int(num/2) +1):\n",
        "    if(num%i==0):\n",
        "        flag=False\n",
        "        break\n",
        "if(flag==True):\n",
        "    print(num,' is prime')\n",
        "else:\n",
        "    print(num,' is not prime')\n",
        "\n",
        "\n",
        "\n",
        "\n",
        "print('\\n\\n')\n",
        "choice=int(input('Enter 1 to roll a die:'))\n",
        "if(choice==1):\n",
        "    print('You got ',random.randint(1,6))\n",
        "\n",
        "\n",
        "\n",
        "print('\\n\\n')\n",
        "l=[1,2,3,4,5]\n",
        "random.shuffle(l)\n",
        "print('Shuffled: ',l)\n",
        "\n",
        "\n",
        "\n",
        "print('\\n\\n')\n",
        "num=random.choice(l)\n",
        "print('Number randomly chosen: ',num)\n",
        "\n",
        "\n",
        "\n",
        "print('\\n\\n')\n",
        "list_of_chars=\"ABCDEFGHIJKLMNOPQRSTUVWXYZabcdefghijklmnopqrstuvwxyz1234567890!@#$%^&*()\"\n",
        "length=int(input('Enter the length of password:'))\n",
        "password=\"\"\n",
        "for i in range(length):\n",
        "    password=password+random.choice(list_of_chars)\n",
        "print(\"Your password is: \",password)\n",
        "\n",
        "\n",
        "\n",
        "\n",
        "print('\\n\\n')\n",
        "cards=[\"Diamonds\",\"Spades\",\"Hearts\",\"Clubs\"]\n",
        "ranks=[2,3,4,5,6,7,8,9,0,\"Jack\",\"Queen\",\"King\",\"Ace\"]\n",
        "card=random.choice(cards)\n",
        "rank=random.choice(ranks)\n",
        "print(rank,\" of \",card)\n"
      ],
      "metadata": {
        "colab": {
          "base_uri": "https://localhost:8080/"
        },
        "id": "fVSycgc13dF3",
        "outputId": "b97f1115-f6ee-45a0-d138-7bf8c8e027db"
      },
      "execution_count": 9,
      "outputs": [
        {
          "output_type": "stream",
          "name": "stdout",
          "text": [
            "Five random numbers\n",
            "84\n",
            "12\n",
            "32\n",
            "63\n",
            "78\n",
            "\n",
            "\n",
            "\n",
            "19  is prime\n",
            "\n",
            "\n",
            "\n",
            "Enter 1 to roll a die:1\n",
            "You got  5\n",
            "\n",
            "\n",
            "\n",
            "Shuffled:  [1, 4, 5, 3, 2]\n",
            "\n",
            "\n",
            "\n",
            "Number randomly chosen:  5\n",
            "\n",
            "\n",
            "\n",
            "Enter the length of password:5\n",
            "Your password is:  )ANLq\n",
            "\n",
            "\n",
            "\n",
            "8  of  Hearts\n"
          ]
        }
      ]
    },
    {
      "cell_type": "markdown",
      "source": [],
      "metadata": {
        "id": "2TIr6wow4Xvf"
      }
    },
    {
      "cell_type": "code",
      "source": [
        "#Ques 10\n",
        "import sys\n",
        "n=len(sys.argv)\n",
        "print(\"Total parameters in argv:\",n)\n",
        "\n",
        "sum_=0\n",
        "\n",
        "#Summing all the values in argv of sys\n",
        "\n",
        "for i in range(1,n):\n",
        "    sum_=sum_+int(sys.argv[i])\n",
        "\n",
        "print('The sum is:',sum_)\n",
        "\n",
        "\"\"\"\n",
        "Output:\n",
        "py 10.py 1 2 3\n",
        "4\n",
        "The sum is: 6\n",
        "\n",
        "\"\"\"\n",
        "\n",
        "\n"
      ],
      "metadata": {
        "colab": {
          "base_uri": "https://localhost:8080/",
          "height": 36
        },
        "id": "MFVZ3DHg5RPR",
        "outputId": "95e59f60-c3d9-4710-91fa-89101aadf818"
      },
      "execution_count": 13,
      "outputs": [
        {
          "output_type": "execute_result",
          "data": {
            "text/plain": [
              "'\\nOutput:\\npy 10.py 1 2 3\\n4\\nThe sum is: 6\\n\\n'"
            ],
            "application/vnd.google.colaboratory.intrinsic+json": {
              "type": "string"
            }
          },
          "metadata": {},
          "execution_count": 13
        }
      ]
    },
    {
      "cell_type": "code",
      "source": [
        "#Ques 10 b\n",
        "import sys\n",
        "length=len(sys.argv[1])\n",
        "print(\"Length of \",sys.argv[1],\" is: \",length)\n",
        "\n",
        "\"\"\"\n",
        "Output:\n",
        "py 10b.py \"hello\"\n",
        "Length of  hello  is:  5\n",
        "\"\"\"\n",
        "\n"
      ],
      "metadata": {
        "colab": {
          "base_uri": "https://localhost:8080/",
          "height": 36
        },
        "id": "p8vxOYQq6Cgk",
        "outputId": "c0430f69-c00d-49a1-e3ee-1e44c15bf3bb"
      },
      "execution_count": 14,
      "outputs": [
        {
          "output_type": "execute_result",
          "data": {
            "text/plain": [
              "'\\nOutput:\\npy 10b.py \"hello\"\\nLength of  hello  is:  5\\n'"
            ],
            "application/vnd.google.colaboratory.intrinsic+json": {
              "type": "string"
            }
          },
          "metadata": {},
          "execution_count": 14
        }
      ]
    },
    {
      "cell_type": "code",
      "source": [
        "#Ques 11\n",
        "import math\n",
        "from datetime import datetime\n",
        "\n",
        "print(math.cos(0))\n",
        "print(math.cos(math.pi))\n",
        "print(math.fabs(-3))\n",
        "\n",
        "\n",
        "a=int(input('Enter a number:'))\n",
        "b=math.pow(a,1/2)\n",
        "print('Square root of ',a,' is:',b)\n",
        "\n",
        "\n",
        "\n",
        "\n",
        "\n",
        "\n",
        "print('\\n\\n')\n",
        "now=datetime.now()\n",
        "date=now.strftime(\"%d/%m/%Y\")\n",
        "time=now.strftime(\"%H:%M:%S\")\n",
        "print(\"Current Date:\",date)\n",
        "print(\"Current time:\",time)\n",
        "\n",
        "\n",
        "\n",
        "print('\\n\\n')\n",
        "import os\n",
        "print('List of files:',os.listdir())\n"
      ],
      "metadata": {
        "colab": {
          "base_uri": "https://localhost:8080/"
        },
        "id": "RwrZoO8y6SYn",
        "outputId": "dd108fa2-e715-4ae9-d078-6ac7dc02a695"
      },
      "execution_count": 15,
      "outputs": [
        {
          "output_type": "stream",
          "name": "stdout",
          "text": [
            "1.0\n",
            "-1.0\n",
            "3.0\n",
            "Enter a number:169\n",
            "Square root of  169  is: 13.0\n",
            "\n",
            "\n",
            "\n",
            "Current Date: 19/01/2025\n",
            "Current time: 09:34:37\n",
            "\n",
            "\n",
            "\n",
            "List of files: ['.config', 'file.txt', 'sample_data']\n"
          ]
        }
      ]
    }
  ]
}