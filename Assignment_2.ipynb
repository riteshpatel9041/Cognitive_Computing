{
  "nbformat": 4,
  "nbformat_minor": 0,
  "metadata": {
    "colab": {
      "provenance": []
    },
    "kernelspec": {
      "name": "python3",
      "display_name": "Python 3"
    },
    "language_info": {
      "name": "python"
    }
  },
  "cells": [
    {
      "cell_type": "code",
      "execution_count": 1,
      "metadata": {
        "colab": {
          "base_uri": "https://localhost:8080/"
        },
        "id": "ZqF_wgE67WNc",
        "outputId": "c0485334-d83f-4cca-85a6-ef1ba309482c"
      },
      "outputs": [
        {
          "output_type": "stream",
          "name": "stdout",
          "text": [
            "[10, 20, 30, 40, 50, 60, 70, 80, 200, 300]\n",
            "[20, 40, 50, 60, 70, 80, 200, 300]\n",
            "[20, 40, 50, 60, 70, 80, 200, 300]\n",
            "[300, 200, 80, 70, 60, 50, 40, 20]\n"
          ]
        }
      ],
      "source": [
        "#Ques 1\n",
        "L=[10,20,30,40,50,60,70,80]\n",
        "L.append(200)\n",
        "L.append(300)\n",
        "print(L)\n",
        "\n",
        "L.remove(10)\n",
        "L.remove(30)\n",
        "print(L)\n",
        "\n",
        "L.sort()\n",
        "print(L)\n",
        "\n",
        "L.sort(reverse=True)\n",
        "print(L)\n"
      ]
    },
    {
      "cell_type": "code",
      "source": [
        "#Ques 2\n",
        "T=(45,89.5,76,45.4,89,92,58,45)\n",
        "print('Max',max(T))\n",
        "print('Index:',T.index(max(T)))\n",
        "\n",
        "print('\\n')\n",
        "print('Min',min(T))\n",
        "print('Count:',T.count(min(T)))\n",
        "print('\\n')\n",
        "\n",
        "L=list(reversed(T))\n",
        "print('Reversed tuple as List:',L)\n",
        "\n",
        "\n",
        "num=eval(input('Enter a number to check:'))\n",
        "\n",
        "if(num in T):\n",
        "    print('Present at:',T.index(num))\n",
        "else:\n",
        "    print(num,' is not in tuple')\n"
      ],
      "metadata": {
        "colab": {
          "base_uri": "https://localhost:8080/"
        },
        "id": "zzALCMKo7uPR",
        "outputId": "45f566ed-51e5-46e9-9942-f34f1c530db9"
      },
      "execution_count": 2,
      "outputs": [
        {
          "output_type": "stream",
          "name": "stdout",
          "text": [
            "Max 92\n",
            "Index: 5\n",
            "\n",
            "\n",
            "Min 45\n",
            "Count: 2\n",
            "\n",
            "\n",
            "Reversed tuple as List: [45, 58, 92, 89, 45.4, 76, 89.5, 45]\n",
            "Enter a number to check:45\n",
            "Present at: 0\n"
          ]
        }
      ]
    },
    {
      "cell_type": "code",
      "source": [
        "#Ques 3\n",
        "import random\n",
        "\n",
        "def isPrime(a):\n",
        "    for i in range(2,int(a/2) +1):\n",
        "        if(a%i==0):\n",
        "            return False\n",
        "\n",
        "    return True\n",
        "\n",
        "\n",
        "L=[]\n",
        "for i in range(100):\n",
        "    L.append(random.randint(100,900))\n",
        "\n",
        "count_prime=0\n",
        "count_even=0\n",
        "count_odd=0\n",
        "\n",
        "for i in L:\n",
        "\n",
        "    if(i%2==0):\n",
        "        count_even=count_even+1\n",
        "    else:\n",
        "        count_odd=count_odd+1\n",
        "\n",
        "    if(isPrime(i)):\n",
        "        count_prime=count_prime+1\n",
        "\n",
        "print('Number of even:  ',count_even)\n",
        "print('Number of odd:   ',count_odd)\n",
        "print('Number of prime: ',count_prime)\n",
        "\n"
      ],
      "metadata": {
        "colab": {
          "base_uri": "https://localhost:8080/"
        },
        "id": "_j3srrb279kQ",
        "outputId": "35eec7ce-8bbc-45f4-cdb8-c3ba52f7bef4"
      },
      "execution_count": 3,
      "outputs": [
        {
          "output_type": "stream",
          "name": "stdout",
          "text": [
            "Number of even:   50\n",
            "Number of odd:    50\n",
            "Number of prime:  16\n"
          ]
        }
      ]
    },
    {
      "cell_type": "code",
      "source": [
        "#Ques 4\n",
        "A={34,56,78,90}\n",
        "B={78,45,90,23}\n",
        "C=set()\n",
        "\n",
        "C=A|B\n",
        "\n",
        "print('Union: ',C)\n",
        "\n",
        "\n",
        "D=set()\n",
        "D=A&B\n",
        "\n",
        "print('Intersection: ',D)\n",
        "\n",
        "\n",
        "E=set()\n",
        "E=A.symmetric_difference(B)\n",
        "\n",
        "print('A-B UNION B-A: ',E)\n",
        "\n",
        "\n",
        "\n",
        "if(A.issubset(B) or B.issuperset(A)):\n",
        "    print('A is subset of B')\n",
        "else:\n",
        "    print('A is not a subset of B')\n",
        "\n",
        "\n",
        "\n",
        "num=int(input('Enter a number to remove from A: '))\n",
        "\n",
        "if(num in A):\n",
        "    A.discard(num)\n",
        "else:\n",
        "    print(num,' is not present in A')\n",
        "print('A: ',A)\n"
      ],
      "metadata": {
        "colab": {
          "base_uri": "https://localhost:8080/"
        },
        "id": "uKFcoV9R8dO9",
        "outputId": "70674963-9b30-4aeb-f2a3-f9752352c3d5"
      },
      "execution_count": 4,
      "outputs": [
        {
          "output_type": "stream",
          "name": "stdout",
          "text": [
            "Union:  {34, 45, 78, 23, 56, 90}\n",
            "Intersection:  {90, 78}\n",
            "A-B UNION B-A:  {34, 45, 23, 56}\n",
            "A is not a subset of B\n",
            "Enter a number to remove from A: 34\n",
            "A:  {56, 90, 78}\n"
          ]
        }
      ]
    },
    {
      "cell_type": "code",
      "source": [
        "#Ques 5\n",
        "sample_dict={\n",
        "    \"name\"  : \"Kelly\",\n",
        "    \"age:\"  : 25,\n",
        "    \"salary\":8000,\n",
        "    \"city\"  :\"New york\"\n",
        "}\n",
        "\n",
        "print(sample_dict)\n",
        "sample_dict['location']=sample_dict.pop('city')\n",
        "print(sample_dict)\n"
      ],
      "metadata": {
        "colab": {
          "base_uri": "https://localhost:8080/"
        },
        "id": "zYNRpFBc8vMp",
        "outputId": "517ba2fd-c900-43fe-bc66-f9a00b56ce83"
      },
      "execution_count": 5,
      "outputs": [
        {
          "output_type": "stream",
          "name": "stdout",
          "text": [
            "{'name': 'Kelly', 'age:': 25, 'salary': 8000, 'city': 'New york'}\n",
            "{'name': 'Kelly', 'age:': 25, 'salary': 8000, 'location': 'New york'}\n"
          ]
        }
      ]
    }
  ]
}