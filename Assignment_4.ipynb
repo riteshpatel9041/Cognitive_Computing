{
 "cells": [
  {
   "cell_type": "markdown",
   "id": "43677713-82fd-454b-8a4e-f07f112d622f",
   "metadata": {},
   "source": [
    "### ASSIGNMENT_4 ###\n",
    "Cognitive Computing\n",
    "Ritesh_Patel: 102367004"
   ]
  },
  {
   "cell_type": "markdown",
   "id": "2b5561fc-776c-4668-9bd6-b575206c44b6",
   "metadata": {},
   "source": [
    "Q.1 Write a program to create a NumPy 1D-array with 5 elements and perform basic \n",
    "operations like: \n",
    "a) Addition of 2 in all the element  \n",
    "b) Multiply 3 with all the elements \n",
    "c) Divide every element by 2 "
   ]
  },
  {
   "cell_type": "code",
   "execution_count": 33,
   "id": "e39f09b5-c6cf-40a4-ac4b-d9af3dbc5b1a",
   "metadata": {
    "scrolled": true
   },
   "outputs": [
    {
     "name": "stdout",
     "output_type": "stream",
     "text": [
      "[12 22 32 42 52]\n",
      "[ 30  60  90 120 150]\n",
      "[ 5. 10. 15. 20. 25.]\n",
      "Original Arrray [10 20 30 40 50]\n"
     ]
    }
   ],
   "source": [
    "import numpy as np\n",
    "\n",
    "arr=np.array([10,20,30,40,50])\n",
    "\n",
    "add_result=arr+2\n",
    "print(add_result)\n",
    "mul_result=arr*3\n",
    "print(mul_result)\n",
    "div_result=arr/2\n",
    "print(div_result)\n",
    "print(\"Original Arrray\",arr)\n",
    "\n"
   ]
  },
  {
   "cell_type": "markdown",
   "id": "857d1d05-6828-4bf5-abca-558203999fab",
   "metadata": {},
   "source": [
    "Q.2 Questions on Basic NumPy Array: \n",
    "a) Reverse the NumPy array: arr = np.array([1, 2, 3, 6, 4, 5]) \n",
    "b) Find the most frequent value and their indice(s) in the following arrays: \n",
    "i. x = np.array([1,2,3,4,5,1,2,1,1,1]) \n",
    "ii. y = np.array([1, 1, 1, 2, 3, 4, 2, 4, 3, 3, ])"
   ]
  },
  {
   "cell_type": "code",
   "execution_count": 36,
   "id": "1d45c1f2-cce9-4623-a23d-6c0ede7b2d59",
   "metadata": {
    "scrolled": true
   },
   "outputs": [
    {
     "name": "stdout",
     "output_type": "stream",
     "text": [
      "Original array [1 2 3 4 5]\n",
      "Reverse Array [5 4 3 2 1]\n"
     ]
    }
   ],
   "source": [
    "import numpy as np\n",
    "\n",
    "arr=np.array([1,2,3,4,5])\n",
    "\n",
    "rev_array=arr[::-1]\n",
    "\n",
    "print(\"Original array\",arr)\n",
    "\n",
    "print(\"Reverse Array\",rev_array)\n",
    "\n",
    "\n"
   ]
  },
  {
   "cell_type": "code",
   "execution_count": 1,
   "id": "558dfd0c-7830-467f-a75d-643e76889519",
   "metadata": {},
   "outputs": [
    {
     "name": "stdout",
     "output_type": "stream",
     "text": [
      "Most frequent value(s) in x: [1], Indices: {1: [0, 5, 7, 8, 9]}\n",
      "Most frequent value(s) in y: [1, 3], Indices: {1: [0, 1, 2], 3: [4, 8, 9]}\n"
     ]
    }
   ],
   "source": [
    "import numpy as np\n",
    "from collections import Counter\n",
    "\n",
    "def most_frequent_values(arr):\n",
    "    counts = Counter(arr)\n",
    "    max_freq = max(counts.values())\n",
    "    most_frequent = [key for key, val in counts.items() if val == max_freq]\n",
    "    indices = {val: np.where(arr == val)[0].tolist() for val in most_frequent}\n",
    "    return most_frequent, indices\n",
    "\n",
    "# Define the arrays\n",
    "x = np.array([1, 2, 3, 4, 5, 1, 2, 1, 1, 1])\n",
    "y = np.array([1, 1, 1, 2, 3, 4, 2, 4, 3, 3])\n",
    "\n",
    "# Find the most frequent values and their indices\n",
    "most_frequent_x, indices_x = most_frequent_values(x)\n",
    "most_frequent_y, indices_y = most_frequent_values(y)\n",
    "\n",
    "print(f\"Most frequent value(s) in x: {most_frequent_x}, Indices: {indices_x}\")\n",
    "print(f\"Most frequent value(s) in y: {most_frequent_y}, Indices: {indices_y}\")\n",
    "\n"
   ]
  },
  {
   "cell_type": "markdown",
   "id": "db5d97cc-7123-4a0b-aee1-654717b2514e",
   "metadata": {},
   "source": [
    "Q.3 For the given 2-D array arr=np.array([10, 20, 30], [40, 50, 60], [70, 80, 90]), access \n",
    "elements using row and column indices as follows: \n",
    "a) Access 1st row, 2nd column  \n",
    "b) Access 3rd row, 1st column"
   ]
  },
  {
   "cell_type": "code",
   "execution_count": 41,
   "id": "f8163e70-0a3e-4ad4-828e-09a05109f2eb",
   "metadata": {
    "scrolled": true
   },
   "outputs": [
    {
     "name": "stdout",
     "output_type": "stream",
     "text": [
      "20\n",
      "70\n"
     ]
    }
   ],
   "source": [
    "import numpy as np\n",
    "arr=np.array([[10,20,30],\n",
    "             [40,50,60],\n",
    "             [70,80,90]])\n",
    "#a_part 1st row 2nd column\n",
    "element_a=arr[0,1]\n",
    "print(element_a)\n",
    "#b_part 3rd row 1st column\n",
    "element_b=arr[2,0]\n",
    "print(element_b)\n"
   ]
  },
  {
   "cell_type": "markdown",
   "id": "adc5422f-b03d-4ce3-93c6-c0c6632936c3",
   "metadata": {},
   "source": [
    "Q.4 Write program to create an 1-D NumPy array named <<Your Name>> with evenly \n",
    "spaced 25 numbers from 10 to 100 using linspace(). Print the dimensions of the array, \n",
    "shape, total elements, the data type of each element and total number of bytes consumed \n",
    "by the array. Find the transpose of this array using reshape() attribute. Can we do the same \n",
    "with T attribute?"
   ]
  },
  {
   "cell_type": "code",
   "execution_count": 57,
   "id": "6c739b29-6c44-4a8d-826c-31d3f6205ff7",
   "metadata": {
    "scrolled": true
   },
   "outputs": [
    {
     "name": "stdout",
     "output_type": "stream",
     "text": [
      "Array:  [ 10.    13.75  17.5   21.25  25.    28.75  32.5   36.25  40.    43.75\n",
      "  47.5   51.25  55.    58.75  62.5   66.25  70.    73.75  77.5   81.25\n",
      "  85.    88.75  92.5   96.25 100.  ]\n",
      "1\n",
      "(25,)\n",
      "25\n",
      "float64\n",
      "200\n",
      "Transpose: [[ 10.  ]\n",
      " [ 13.75]\n",
      " [ 17.5 ]\n",
      " [ 21.25]\n",
      " [ 25.  ]\n",
      " [ 28.75]\n",
      " [ 32.5 ]\n",
      " [ 36.25]\n",
      " [ 40.  ]\n",
      " [ 43.75]\n",
      " [ 47.5 ]\n",
      " [ 51.25]\n",
      " [ 55.  ]\n",
      " [ 58.75]\n",
      " [ 62.5 ]\n",
      " [ 66.25]\n",
      " [ 70.  ]\n",
      " [ 73.75]\n",
      " [ 77.5 ]\n",
      " [ 81.25]\n",
      " [ 85.  ]\n",
      " [ 88.75]\n",
      " [ 92.5 ]\n",
      " [ 96.25]\n",
      " [100.  ]]\n",
      "[ 10.    13.75  17.5   21.25  25.    28.75  32.5   36.25  40.    43.75\n",
      "  47.5   51.25  55.    58.75  62.5   66.25  70.    73.75  77.5   81.25\n",
      "  85.    88.75  92.5   96.25 100.  ]\n",
      "(25,)\n"
     ]
    }
   ],
   "source": [
    "import numpy as np\n",
    "Ritesh_Patel=np.linspace(10,100,25)\n",
    "print(\"Array: \",Ritesh_Patel)\n",
    "print(Ritesh_Patel.ndim)\n",
    "print(Ritesh_Patel.shape)\n",
    "print(Ritesh_Patel.size)\n",
    "print(Ritesh_Patel.dtype)\n",
    "print(Ritesh_Patel.nbytes)\n",
    "\n",
    "#transposed Array\n",
    "transpose_array=Ritesh_Patel.reshape(25,1)\n",
    "print(\"Transpose:\",transpose_array)\n",
    "\n",
    "#transpose using T\n",
    "transpose_T=Ritesh_Patel.T\n",
    "print(transpose_T)\n",
    "#shape after using T \n",
    "print(transpose_T.shape)\n"
   ]
  },
  {
   "cell_type": "markdown",
   "id": "73e1b90d-1dc8-41e0-b753-f39e4c450ef2",
   "metadata": {},
   "source": [
    "Q5. Create a 2-D Array of three rows and four columns, named ucs420_<your_name>> \n",
    "with following values – 10, 20, 30, 40, 50, 60, 70, 80, 90, 15, 20, 35. Compute the mean, \n",
    "median, max, min, unique elements. Reshape the array to four rows and three columns and \n",
    "name it as reshaped_ ucs420_<your_name>>. Resize the array to two rows and three \n",
    "columns and name it as resized_ ucs420_<your_name>>."
   ]
  },
  {
   "cell_type": "code",
   "execution_count": 3,
   "id": "b653d23c-1f59-49cb-9742-bda7ab654e33",
   "metadata": {},
   "outputs": [
    {
     "name": "stdout",
     "output_type": "stream",
     "text": [
      "Mean: 43.333333333333336\n",
      "Median: 37.5\n",
      "Max: 90\n",
      "Min: 10\n",
      "Unique Elements: [10 15 20 30 35 40 50 60 70 80 90]\n",
      "Reshaped Array (4x3):\n",
      " [[10 20 30]\n",
      " [40 50 60]\n",
      " [70 80 90]\n",
      " [15 20 35]]\n",
      "Resized Array (2x3):\n",
      " [[10 20 30]\n",
      " [40 50 60]]\n"
     ]
    }
   ],
   "source": [
    "import numpy as np\n",
    " \n",
    "ucs420_Ritesh = np.array([[10, 20, 30, 40], \n",
    "                          [50, 60, 70, 80], \n",
    "                          [90, 15, 20, 35]])\n",
    " \n",
    "mean_value = np.mean(ucs420_Ritesh)\n",
    "median_value = np.median(ucs420_Ritesh)\n",
    "max_value = np.max(ucs420_Ritesh)\n",
    "min_value = np.min(ucs420_Ritesh)\n",
    "unique_elements = np.unique(ucs420_Ritesh)\n",
    " \n",
    "print(\"Mean:\", mean_value)\n",
    "print(\"Median:\", median_value)\n",
    "print(\"Max:\", max_value)\n",
    "print(\"Min:\", min_value)\n",
    "print(\"Unique Elements:\", unique_elements)\n",
    " \n",
    "reshaped_ucs420_Ritesh = ucs420_Ritesh.reshape(4, 3)\n",
    "print(\"Reshaped Array (4x3):\\n\", reshaped_ucs420_Ritesh)\n",
    " \n",
    "resized_ucs420_Ritesh = ucs420_Ritesh.copy()\n",
    "resized_ucs420_Ritesh.resize(2, 3)\n",
    "print(\"Resized Array (2x3):\\n\", resized_ucs420_Ritesh)"
   ]
  }
 ],
 "metadata": {
  "kernelspec": {
   "display_name": "Python 3 (ipykernel)",
   "language": "python",
   "name": "python3"
  },
  "language_info": {
   "codemirror_mode": {
    "name": "ipython",
    "version": 3
   },
   "file_extension": ".py",
   "mimetype": "text/x-python",
   "name": "python",
   "nbconvert_exporter": "python",
   "pygments_lexer": "ipython3",
   "version": "3.12.7"
  }
 },
 "nbformat": 4,
 "nbformat_minor": 5
}
